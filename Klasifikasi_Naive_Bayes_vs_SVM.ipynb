{
 "cells": [
  {
   "cell_type": "code",
   "execution_count": 25,
   "metadata": {},
   "outputs": [],
   "source": [
    "from nltk.corpus import stopwords\n",
    "from nltk.tokenize import word_tokenize\n",
    "import unicodedata\n",
    "import nltk\n",
    "import pandas as pd\n",
    "import re\n",
    "from sklearn.feature_extraction.text import CountVectorizer\n",
    "from sklearn.feature_extraction.text import TfidfTransformer\n",
    "from sklearn.naive_bayes import MultinomialNB\n",
    "from sklearn.pipeline import Pipeline\n",
    "import numpy as np\n",
    "from sklearn.linear_model import SGDClassifier\n",
    "from sklearn.svm import LinearSVC\n",
    "from sklearn.feature_extraction.text import TfidfVectorizer\n",
    "from sklearn.decomposition import PCA\n",
    "from textblob import TextBlob\n",
    "from textblob.classifiers import NaiveBayesClassifier\n",
    "from sklearn.model_selection import train_test_split\n",
    "from sklearn.metrics import classification_report, f1_score, accuracy_score, confusion_matrix"
   ]
  },
  {
   "cell_type": "code",
   "execution_count": 26,
   "metadata": {},
   "outputs": [],
   "source": [
    "def removeStopword(str):\n",
    "    stop_words = set(stopwords.words('indonesian'))\n",
    "    word_tokens = word_tokenize(str)\n",
    "    filtered_sentence = [w for w in word_tokens if not w in stop_words]\n",
    "    return ' '.join(filtered_sentence)\n",
    "\n",
    "#remove sentence which contains only one word\n",
    "def removeSentence(str): \n",
    "    word = str.split()\n",
    "    wordCount = len(word)\n",
    "    if(wordCount<=1):\n",
    "        str = ''\n",
    "    \n",
    "    return str\n",
    "\n",
    "def cleaning(str):\n",
    "    #remove non-ascii\n",
    "    str = unicodedata.normalize('NFKD', str).encode('ascii', 'ignore').decode('utf-8', 'ignore')\n",
    "    #remove URLs\n",
    "    str = re.sub(r'(?i)\\b((?:https?://|www\\d{0,3}[.]|[a-z0-9.\\-]+[.][a-z]{2,4}/)(?:[^\\s()<>]+|\\(([^\\s()<>]+|(\\([^\\s()<>]+\\)))*\\))+(?:\\(([^\\s()<>]+|(\\([^\\s()<>]+\\)))*\\)|[^\\s`!()\\[\\]{};:\\'\".,<>?«»“”‘’]))', '', str)\n",
    "    #remove punctuations\n",
    "    str = re.sub(r'[^\\w]|_',' ',str)\n",
    "    #remove digit from string\n",
    "    str = re.sub(\"\\S*\\d\\S*\", \"\", str).strip()\n",
    "    #remove digit or numbers\n",
    "    str = re.sub(r\"\\b\\d+\\b\", \" \", str)\n",
    "    #to lowercase\n",
    "    str = str.lower()\n",
    "    #Remove additional white spaces\n",
    "    str = re.sub('[\\s]+', ' ', str)\n",
    "       \n",
    "    return str\n",
    "\n",
    "\n",
    "def preprocessing(str):\n",
    "    str = ' '.join(re.sub(r'@[A-Za-z0-9]+','',str).split()) \n",
    "    str = removeSentence(str)\n",
    "    str = cleaning(str)\n",
    "    str = removeStopword(str)\n",
    "    \n",
    "    return str"
   ]
  },
  {
   "cell_type": "code",
   "execution_count": 27,
   "metadata": {},
   "outputs": [],
   "source": [
    "# Proses pengambilan data\n",
    "train = pd.ExcelFile('TRAINING_KOTOR.xlsx')\n",
    "test = pd.ExcelFile('TESTING_KOTOR2.xlsx')\n",
    "dtr = pd.read_excel(train, 'Sheet1')\n",
    "dts = pd.read_excel(test, 'Sheet1')\n",
    "tweet_t = dtr[\"tweet\"].tolist()\n",
    "label_t = dtr[\"label\"].tolist()\n",
    "tweet = dts[\"tweet\"].tolist()\n",
    "label = dts[\"label\"].tolist()"
   ]
  },
  {
   "cell_type": "code",
   "execution_count": 28,
   "metadata": {},
   "outputs": [
    {
     "data": {
      "text/html": [
       "<div>\n",
       "<style scoped>\n",
       "    .dataframe tbody tr th:only-of-type {\n",
       "        vertical-align: middle;\n",
       "    }\n",
       "\n",
       "    .dataframe tbody tr th {\n",
       "        vertical-align: top;\n",
       "    }\n",
       "\n",
       "    .dataframe thead th {\n",
       "        text-align: right;\n",
       "    }\n",
       "</style>\n",
       "<table border=\"1\" class=\"dataframe\">\n",
       "  <thead>\n",
       "    <tr style=\"text-align: right;\">\n",
       "      <th></th>\n",
       "      <th>tweet</th>\n",
       "      <th>label</th>\n",
       "    </tr>\n",
       "  </thead>\n",
       "  <tbody>\n",
       "    <tr>\n",
       "      <th>0</th>\n",
       "      <td>Kamu ini terlalu banyak bacot. Mau aku bacok kah?</td>\n",
       "      <td>0</td>\n",
       "    </tr>\n",
       "    <tr>\n",
       "      <th>1</th>\n",
       "      <td>@foxluvme lo bacot kuadrat , apalagi ka oca</td>\n",
       "      <td>0</td>\n",
       "    </tr>\n",
       "    <tr>\n",
       "      <th>2</th>\n",
       "      <td>@kdanielsrl_ Jujur gue lupa fi ke lo kygmn hyu...</td>\n",
       "      <td>0</td>\n",
       "    </tr>\n",
       "    <tr>\n",
       "      <th>3</th>\n",
       "      <td>@bynzie Zahra, 03L, Renjun\\n\\nBibin lucu terus...</td>\n",
       "      <td>0</td>\n",
       "    </tr>\n",
       "    <tr>\n",
       "      <th>4</th>\n",
       "      <td>Halah bacot dating-dating, percaya sama dispat...</td>\n",
       "      <td>0</td>\n",
       "    </tr>\n",
       "  </tbody>\n",
       "</table>\n",
       "</div>"
      ],
      "text/plain": [
       "                                               tweet  label\n",
       "0  Kamu ini terlalu banyak bacot. Mau aku bacok kah?      0\n",
       "1        @foxluvme lo bacot kuadrat , apalagi ka oca      0\n",
       "2  @kdanielsrl_ Jujur gue lupa fi ke lo kygmn hyu...      0\n",
       "3  @bynzie Zahra, 03L, Renjun\\n\\nBibin lucu terus...      0\n",
       "4  Halah bacot dating-dating, percaya sama dispat...      0"
      ]
     },
     "execution_count": 28,
     "metadata": {},
     "output_type": "execute_result"
    }
   ],
   "source": [
    "# Preview Data Pelatihan\n",
    "#kata_kotor = 0, bukan_kata_kotor = 1\n",
    "dtr['label'] = pd.factorize(dtr.label)[0]\n",
    "dtr.head()"
   ]
  },
  {
   "cell_type": "code",
   "execution_count": 29,
   "metadata": {},
   "outputs": [
    {
     "data": {
      "text/html": [
       "<div>\n",
       "<style scoped>\n",
       "    .dataframe tbody tr th:only-of-type {\n",
       "        vertical-align: middle;\n",
       "    }\n",
       "\n",
       "    .dataframe tbody tr th {\n",
       "        vertical-align: top;\n",
       "    }\n",
       "\n",
       "    .dataframe thead th {\n",
       "        text-align: right;\n",
       "    }\n",
       "</style>\n",
       "<table border=\"1\" class=\"dataframe\">\n",
       "  <thead>\n",
       "    <tr style=\"text-align: right;\">\n",
       "      <th></th>\n",
       "      <th>tweet</th>\n",
       "      <th>label</th>\n",
       "    </tr>\n",
       "  </thead>\n",
       "  <tbody>\n",
       "    <tr>\n",
       "      <th>0</th>\n",
       "      <td>Me: debat dengan provide data dan hitungan-hit...</td>\n",
       "      <td>0</td>\n",
       "    </tr>\n",
       "    <tr>\n",
       "      <th>1</th>\n",
       "      <td>ASE: lo ngapain masuk ngantor? kenapa gak WFH ...</td>\n",
       "      <td>0</td>\n",
       "    </tr>\n",
       "    <tr>\n",
       "      <th>2</th>\n",
       "      <td>@P3nj3l4j4h @natadiningrat99 Lala lama eneg ng...</td>\n",
       "      <td>0</td>\n",
       "    </tr>\n",
       "    <tr>\n",
       "      <th>3</th>\n",
       "      <td>@cingu24 Bacot emg tuh satu.</td>\n",
       "      <td>0</td>\n",
       "    </tr>\n",
       "    <tr>\n",
       "      <th>4</th>\n",
       "      <td>baru tgl 2 weh udah ada anjing bacot aja</td>\n",
       "      <td>0</td>\n",
       "    </tr>\n",
       "  </tbody>\n",
       "</table>\n",
       "</div>"
      ],
      "text/plain": [
       "                                               tweet  label\n",
       "0  Me: debat dengan provide data dan hitungan-hit...      0\n",
       "1  ASE: lo ngapain masuk ngantor? kenapa gak WFH ...      0\n",
       "2  @P3nj3l4j4h @natadiningrat99 Lala lama eneg ng...      0\n",
       "3                       @cingu24 Bacot emg tuh satu.      0\n",
       "4           baru tgl 2 weh udah ada anjing bacot aja      0"
      ]
     },
     "execution_count": 29,
     "metadata": {},
     "output_type": "execute_result"
    }
   ],
   "source": [
    "# Preview Data Pengujian\n",
    "#kata_kotor = 0, bukan_kata_kotor = 1\n",
    "dts['label'] = pd.factorize(dts.label)[0]\n",
    "dts.head()"
   ]
  },
  {
   "cell_type": "code",
   "execution_count": 30,
   "metadata": {},
   "outputs": [
    {
     "data": {
      "text/plain": [
       "4500"
      ]
     },
     "execution_count": 30,
     "metadata": {},
     "output_type": "execute_result"
    }
   ],
   "source": [
    "# Proses preprocessing data pelatihan\n",
    "cleaned = []\n",
    "for x in tweet_t:\n",
    "    smntr = preprocessing(x)\n",
    "    cleaned.append(smntr)\n",
    "    \n",
    "len(cleaned)"
   ]
  },
  {
   "cell_type": "code",
   "execution_count": 31,
   "metadata": {},
   "outputs": [
    {
     "data": {
      "text/plain": [
       "893"
      ]
     },
     "execution_count": 31,
     "metadata": {},
     "output_type": "execute_result"
    }
   ],
   "source": [
    "# Proses preprocessing data pengujian\n",
    "cleaned_test = []\n",
    "for x in tweet:\n",
    "    smntr = preprocessing(x)\n",
    "    cleaned_test.append(smntr)\n",
    "    \n",
    "len(cleaned_test)"
   ]
  },
  {
   "cell_type": "code",
   "execution_count": 32,
   "metadata": {},
   "outputs": [],
   "source": [
    "# Klasifikasi Naive Bayes\n",
    "count_vect = CountVectorizer()\n",
    "X_train_counts = count_vect.fit_transform(cleaned)\n",
    "tfidf_transformer = TfidfTransformer()\n",
    "X_train_tfidf = tfidf_transformer.fit_transform(X_train_counts)\n",
    "\n",
    "clf = MultinomialNB().fit(X_train_tfidf, label_t)\n",
    "blob = clf.predict(count_vect.transform(cleaned_test))"
   ]
  },
  {
   "cell_type": "code",
   "execution_count": 33,
   "metadata": {},
   "outputs": [
    {
     "data": {
      "text/html": [
       "<div>\n",
       "<style scoped>\n",
       "    .dataframe tbody tr th:only-of-type {\n",
       "        vertical-align: middle;\n",
       "    }\n",
       "\n",
       "    .dataframe tbody tr th {\n",
       "        vertical-align: top;\n",
       "    }\n",
       "\n",
       "    .dataframe thead th {\n",
       "        text-align: right;\n",
       "    }\n",
       "</style>\n",
       "<table border=\"1\" class=\"dataframe\">\n",
       "  <thead>\n",
       "    <tr style=\"text-align: right;\">\n",
       "      <th></th>\n",
       "      <th>Tweet</th>\n",
       "      <th>Aktual</th>\n",
       "      <th>Prediksi</th>\n",
       "    </tr>\n",
       "  </thead>\n",
       "  <tbody>\n",
       "    <tr>\n",
       "      <th>0</th>\n",
       "      <td>me debat provide data hitungan hitungan bukti ...</td>\n",
       "      <td>0</td>\n",
       "      <td>0</td>\n",
       "    </tr>\n",
       "    <tr>\n",
       "      <th>1</th>\n",
       "      <td>ase lo ngapain masuk ngantor gak wfh aja packi...</td>\n",
       "      <td>0</td>\n",
       "      <td>0</td>\n",
       "    </tr>\n",
       "    <tr>\n",
       "      <th>2</th>\n",
       "      <td>lala eneg ngeliat pasangan capres ga berilmu c...</td>\n",
       "      <td>0</td>\n",
       "      <td>0</td>\n",
       "    </tr>\n",
       "    <tr>\n",
       "      <th>3</th>\n",
       "      <td>bacot emg tuh</td>\n",
       "      <td>0</td>\n",
       "      <td>0</td>\n",
       "    </tr>\n",
       "    <tr>\n",
       "      <th>4</th>\n",
       "      <td>tgl weh udah anjing bacot aja</td>\n",
       "      <td>0</td>\n",
       "      <td>0</td>\n",
       "    </tr>\n",
       "    <tr>\n",
       "      <th>5</th>\n",
       "      <td>haean bacot melulu orang sakit bloon</td>\n",
       "      <td>0</td>\n",
       "      <td>0</td>\n",
       "    </tr>\n",
       "    <tr>\n",
       "      <th>6</th>\n",
       "      <td>rpw need rp nct join gdm bacot aktif baperan u...</td>\n",
       "      <td>0</td>\n",
       "      <td>0</td>\n",
       "    </tr>\n",
       "    <tr>\n",
       "      <th>7</th>\n",
       "      <td>bacot wkwkw bener</td>\n",
       "      <td>0</td>\n",
       "      <td>0</td>\n",
       "    </tr>\n",
       "    <tr>\n",
       "      <th>8</th>\n",
       "      <td>bacot ya hean lo limit aja limit dm</td>\n",
       "      <td>0</td>\n",
       "      <td>0</td>\n",
       "    </tr>\n",
       "    <tr>\n",
       "      <th>9</th>\n",
       "      <td>lo bacot goblog semangat ya melawan juliders</td>\n",
       "      <td>0</td>\n",
       "      <td>0</td>\n",
       "    </tr>\n",
       "  </tbody>\n",
       "</table>\n",
       "</div>"
      ],
      "text/plain": [
       "                                               Tweet  Aktual  Prediksi\n",
       "0  me debat provide data hitungan hitungan bukti ...       0         0\n",
       "1  ase lo ngapain masuk ngantor gak wfh aja packi...       0         0\n",
       "2  lala eneg ngeliat pasangan capres ga berilmu c...       0         0\n",
       "3                                      bacot emg tuh       0         0\n",
       "4                      tgl weh udah anjing bacot aja       0         0\n",
       "5               haean bacot melulu orang sakit bloon       0         0\n",
       "6  rpw need rp nct join gdm bacot aktif baperan u...       0         0\n",
       "7                                  bacot wkwkw bener       0         0\n",
       "8                bacot ya hean lo limit aja limit dm       0         0\n",
       "9       lo bacot goblog semangat ya melawan juliders       0         0"
      ]
     },
     "execution_count": 33,
     "metadata": {},
     "output_type": "execute_result"
    }
   ],
   "source": [
    "# Hasil prediksi dengan Naive Bayes\n",
    "hasilnya = []\n",
    "i = 0\n",
    "while i < len(blob):\n",
    "    smntr = (cleaned_test[i], label[i], blob[i])\n",
    "    hasilnya.append(smntr)\n",
    "    i += 1\n",
    "labels = ['Tweet', 'Aktual', 'Prediksi']\n",
    "df = pd.DataFrame.from_records(hasilnya, columns=labels)\n",
    "df.head(10)"
   ]
  },
  {
   "cell_type": "code",
   "execution_count": 34,
   "metadata": {},
   "outputs": [
    {
     "name": "stdout",
     "output_type": "stream",
     "text": [
      "97.872%\n"
     ]
    }
   ],
   "source": [
    "# Tingkat akurasi dengan Naive Bayes\n",
    "print(str('%.3f'%(np.mean(blob == label)*100)) + \"%\")"
   ]
  },
  {
   "cell_type": "code",
   "execution_count": 35,
   "metadata": {},
   "outputs": [
    {
     "name": "stdout",
     "output_type": "stream",
     "text": [
      "             precision    recall  f1-score   support\n",
      "\n",
      "          0       0.96      1.00      0.98       446\n",
      "          1       1.00      0.96      0.98       447\n",
      "\n",
      "avg / total       0.98      0.98      0.98       893\n",
      "\n"
     ]
    }
   ],
   "source": [
    "# Menghitung Precision, Recall dan F-score Naive Bayes\n",
    "print (classification_report(label, blob))"
   ]
  },
  {
   "cell_type": "code",
   "execution_count": 36,
   "metadata": {},
   "outputs": [],
   "source": [
    "# Klasifikasi SVM\n",
    "text_clf_svm = Pipeline([('vect', CountVectorizer()), ('tfidf', TfidfTransformer()),\n",
    "                         ('clf-svm', LinearSVC())])\n",
    "text_clf_svm = text_clf_svm.fit(cleaned, label_t)\n",
    "predicted = text_clf_svm.predict(cleaned_test)"
   ]
  },
  {
   "cell_type": "code",
   "execution_count": 37,
   "metadata": {},
   "outputs": [
    {
     "data": {
      "text/html": [
       "<div>\n",
       "<style scoped>\n",
       "    .dataframe tbody tr th:only-of-type {\n",
       "        vertical-align: middle;\n",
       "    }\n",
       "\n",
       "    .dataframe tbody tr th {\n",
       "        vertical-align: top;\n",
       "    }\n",
       "\n",
       "    .dataframe thead th {\n",
       "        text-align: right;\n",
       "    }\n",
       "</style>\n",
       "<table border=\"1\" class=\"dataframe\">\n",
       "  <thead>\n",
       "    <tr style=\"text-align: right;\">\n",
       "      <th></th>\n",
       "      <th>Tweet</th>\n",
       "      <th>Aktual</th>\n",
       "      <th>Prediksi</th>\n",
       "    </tr>\n",
       "  </thead>\n",
       "  <tbody>\n",
       "    <tr>\n",
       "      <th>0</th>\n",
       "      <td>me debat provide data hitungan hitungan bukti ...</td>\n",
       "      <td>0</td>\n",
       "      <td>0</td>\n",
       "    </tr>\n",
       "    <tr>\n",
       "      <th>1</th>\n",
       "      <td>ase lo ngapain masuk ngantor gak wfh aja packi...</td>\n",
       "      <td>0</td>\n",
       "      <td>0</td>\n",
       "    </tr>\n",
       "    <tr>\n",
       "      <th>2</th>\n",
       "      <td>lala eneg ngeliat pasangan capres ga berilmu c...</td>\n",
       "      <td>0</td>\n",
       "      <td>0</td>\n",
       "    </tr>\n",
       "    <tr>\n",
       "      <th>3</th>\n",
       "      <td>bacot emg tuh</td>\n",
       "      <td>0</td>\n",
       "      <td>0</td>\n",
       "    </tr>\n",
       "    <tr>\n",
       "      <th>4</th>\n",
       "      <td>tgl weh udah anjing bacot aja</td>\n",
       "      <td>0</td>\n",
       "      <td>0</td>\n",
       "    </tr>\n",
       "    <tr>\n",
       "      <th>5</th>\n",
       "      <td>haean bacot melulu orang sakit bloon</td>\n",
       "      <td>0</td>\n",
       "      <td>0</td>\n",
       "    </tr>\n",
       "    <tr>\n",
       "      <th>6</th>\n",
       "      <td>rpw need rp nct join gdm bacot aktif baperan u...</td>\n",
       "      <td>0</td>\n",
       "      <td>0</td>\n",
       "    </tr>\n",
       "    <tr>\n",
       "      <th>7</th>\n",
       "      <td>bacot wkwkw bener</td>\n",
       "      <td>0</td>\n",
       "      <td>0</td>\n",
       "    </tr>\n",
       "    <tr>\n",
       "      <th>8</th>\n",
       "      <td>bacot ya hean lo limit aja limit dm</td>\n",
       "      <td>0</td>\n",
       "      <td>0</td>\n",
       "    </tr>\n",
       "    <tr>\n",
       "      <th>9</th>\n",
       "      <td>lo bacot goblog semangat ya melawan juliders</td>\n",
       "      <td>0</td>\n",
       "      <td>0</td>\n",
       "    </tr>\n",
       "  </tbody>\n",
       "</table>\n",
       "</div>"
      ],
      "text/plain": [
       "                                               Tweet  Aktual  Prediksi\n",
       "0  me debat provide data hitungan hitungan bukti ...       0         0\n",
       "1  ase lo ngapain masuk ngantor gak wfh aja packi...       0         0\n",
       "2  lala eneg ngeliat pasangan capres ga berilmu c...       0         0\n",
       "3                                      bacot emg tuh       0         0\n",
       "4                      tgl weh udah anjing bacot aja       0         0\n",
       "5               haean bacot melulu orang sakit bloon       0         0\n",
       "6  rpw need rp nct join gdm bacot aktif baperan u...       0         0\n",
       "7                                  bacot wkwkw bener       0         0\n",
       "8                bacot ya hean lo limit aja limit dm       0         0\n",
       "9       lo bacot goblog semangat ya melawan juliders       0         0"
      ]
     },
     "execution_count": 37,
     "metadata": {},
     "output_type": "execute_result"
    }
   ],
   "source": [
    "# Hasil prediksi dengan Naive Bayes\n",
    "hasil_p = []\n",
    "i = 0\n",
    "while i < len(predicted):\n",
    "    smntr = (cleaned_test[i], label[i], predicted[i])\n",
    "    hasil_p.append(smntr)\n",
    "    i += 1\n",
    "labels = ['Tweet', 'Aktual', 'Prediksi']\n",
    "df = pd.DataFrame.from_records(hasil_p, columns=labels)\n",
    "df.head(10)"
   ]
  },
  {
   "cell_type": "code",
   "execution_count": 38,
   "metadata": {},
   "outputs": [
    {
     "name": "stdout",
     "output_type": "stream",
     "text": [
      "96.976%\n"
     ]
    }
   ],
   "source": [
    "# Hasil prediksi dengan SVM\n",
    "print(str('%.3f'%(np.mean(predicted == label)*100)) + \"%\")"
   ]
  },
  {
   "cell_type": "code",
   "execution_count": 39,
   "metadata": {},
   "outputs": [
    {
     "name": "stdout",
     "output_type": "stream",
     "text": [
      "             precision    recall  f1-score   support\n",
      "\n",
      "          0       0.99      0.95      0.97       446\n",
      "          1       0.95      0.99      0.97       447\n",
      "\n",
      "avg / total       0.97      0.97      0.97       893\n",
      "\n"
     ]
    }
   ],
   "source": [
    "# Menghitung Precision, Recall dan F-score SVM\n",
    "print (classification_report(label, predicted))"
   ]
  }
 ],
 "metadata": {
  "kernelspec": {
   "display_name": "Python 3",
   "language": "python",
   "name": "python3"
  },
  "language_info": {
   "codemirror_mode": {
    "name": "ipython",
    "version": 3
   },
   "file_extension": ".py",
   "mimetype": "text/x-python",
   "name": "python",
   "nbconvert_exporter": "python",
   "pygments_lexer": "ipython3",
   "version": "3.6.5"
  }
 },
 "nbformat": 4,
 "nbformat_minor": 2
}
